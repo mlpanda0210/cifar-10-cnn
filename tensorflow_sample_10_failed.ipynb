{
 "cells": [
  {
   "cell_type": "code",
   "execution_count": 3,
   "metadata": {},
   "outputs": [],
   "source": [
    "import tensorflow as tf\n",
    "import numpy as np\n",
    "import matplotlib.pyplot as plt\n",
    "from numpy.random import multivariate_normal, permutation\n",
    "import pandas as pd\n",
    "from pandas import DataFrame, Series\n",
    "from tensorflow.examples.tutorials.mnist import input_data\n",
    "\n",
    "np.random.seed(20160704)\n",
    "tf.set_random_seed(20160704)\n"
   ]
  },
  {
   "cell_type": "code",
   "execution_count": 4,
   "metadata": {},
   "outputs": [
    {
     "name": "stdout",
     "output_type": "stream",
     "text": [
      "(10000, 3072)\n",
      "(10000, 10)\n",
      "(10000, 3072)\n",
      "(10000, 10)\n",
      "(10000, 3072)\n"
     ]
    }
   ],
   "source": [
    "def unpickle(file):\n",
    "    import pickle\n",
    "    with open(file, 'rb') as fo:\n",
    "        dict = pickle.load(fo, encoding='bytes')\n",
    "    return dict\n",
    "\n",
    "#トレーニングデータ準備\n",
    "train_file = unpickle(\"data_batch_1\")\n",
    "labels = train_file[b'labels']\n",
    "\n",
    "data = train_file[b'data']\n",
    "data = data.reshape([-1,3,32,32]).transpose([0,2,3,1])\n",
    "data = data.reshape([-1,3*32*32])\n",
    "\n",
    "#トレーニング、ラベルをonehot にする\n",
    "labels_oh = np.zeros([len(labels),10])\n",
    "labels_oh[np.arange(len(labels)),labels]  =1\n",
    "\n",
    "#テストデータ準備\n",
    "test_file = unpickle(\"test_batch\")\n",
    "test_labels = test_file[b'labels']\n",
    "test_data = test_file[b'data']\n",
    "\n",
    "#テスト、ラベルをonehot にする\n",
    "test_labels_oh = np.zeros([len(test_labels),10])\n",
    "test_labels_oh[np.arange(len(test_labels)),test_labels]  =1\n",
    "\n",
    "\n",
    "\n",
    "print(data.shape)\n",
    "print(labels_oh.shape)\n",
    "print(test_data.shape)\n",
    "print(test_labels_oh.shape)\n",
    "print(data.shape)"
   ]
  },
  {
   "cell_type": "code",
   "execution_count": null,
   "metadata": {},
   "outputs": [
    {
     "name": "stdout",
     "output_type": "stream",
     "text": [
      "Step: 100, Loss: nan, Accuracy: 0.100000\n",
      "Step: 200, Loss: nan, Accuracy: 0.100000\n",
      "Step: 300, Loss: nan, Accuracy: 0.100000\n",
      "Step: 400, Loss: nan, Accuracy: 0.100000\n",
      "Step: 500, Loss: nan, Accuracy: 0.100000\n",
      "Step: 600, Loss: nan, Accuracy: 0.100000\n",
      "Step: 700, Loss: nan, Accuracy: 0.100000\n",
      "Step: 800, Loss: nan, Accuracy: 0.100000\n",
      "Step: 900, Loss: nan, Accuracy: 0.100000\n",
      "Step: 1000, Loss: nan, Accuracy: 0.100000\n",
      "Step: 1100, Loss: nan, Accuracy: 0.100000\n",
      "Step: 1200, Loss: nan, Accuracy: 0.100000\n"
     ]
    }
   ],
   "source": [
    "\n",
    "x = tf.placeholder(tf.float32, [None,3072])\n",
    "x_images = tf.reshape(x,[-1,32,32,3])\n",
    "\n",
    "num_filter1 = 32\n",
    "w1_conv = tf.Variable(tf.truncated_normal([5,5,3,num_filter1], stddev = 0.1))\n",
    "b1_conv = tf.Variable(tf.constant(0.1, shape=[num_filter1]))\n",
    "h1_conv = tf.nn.conv2d(x_images, w1_conv, strides=[1,1,1,1], padding=\"SAME\")\n",
    "h1_conv_cutoff = tf.nn.relu(h1_conv+b1_conv)\n",
    "h1_pool = tf.nn.max_pool(h1_conv_cutoff, ksize = [1,2,2,1], strides = [1,2,2,1], padding = \"SAME\")\n",
    "\n",
    "num_filter2 = 64\n",
    "w2_conv = tf.Variable(tf.truncated_normal([5,5,num_filter1 ,num_filter2], stddev = 0.1))\n",
    "b2_conv = tf.Variable(tf.constant(0.1, shape=[num_filter2]))\n",
    "h2_conv = tf.nn.conv2d(h1_pool, w2_conv, strides=[1,1,1,1], padding=\"SAME\")\n",
    "h2_conv_cutoff = tf.nn.relu(h2_conv+b2_conv)\n",
    "h2_pool = tf.nn.max_pool(h2_conv_cutoff, ksize = [1,2,2,1], strides = [1,2,2,1], padding = \"SAME\")\n",
    "h2_pool_flat = tf.reshape(h2_pool, [-1, 8*8*num_filter2])\n",
    "\n",
    "num_units1 = 8*8*num_filter2\n",
    "num_units2 = 1024\n",
    "\n",
    "w2 =  tf.Variable(tf.truncated_normal([num_units1 ,num_units2], stddev = 0.1))\n",
    "b2 = tf.Variable(tf.constant(0.1, shape=[num_units2]))\n",
    "hidden2 = tf.nn.relu(tf.matmul(h2_pool_flat,w2) + b2)\n",
    "\n",
    "keep_prob = tf.placeholder(tf.float32)\n",
    "hidden_drop =  tf.nn.dropout(hidden2, keep_prob)\n",
    "w0 = tf.Variable(tf.truncated_normal([num_units2, 10],stddev = 0.1))\n",
    "b0 = tf.Variable(tf.constant(0.1, shape=[10]))\n",
    "p = tf.nn.softmax(tf.matmul(hidden_drop,w0) + b0)\n",
    "\n",
    "t = tf.placeholder(tf.float32, [None, 10])\n",
    "correct_prediction = tf.equal(tf.argmax(p,1), tf.argmax(t,1))\n",
    "loss = -tf.reduce_sum(t*tf.log(p))\n",
    "train = tf.train.AdamOptimizer(0.0001).minimize(loss)\n",
    "accuracy = tf.reduce_mean(tf.cast(correct_prediction, tf.float32))\n",
    "sess = tf.InteractiveSession()\n",
    "sess.run(tf.global_variables_initializer())\n",
    "\n",
    "i = 0\n",
    "for _ in range(10000):\n",
    "    i += 1\n",
    "    sess.run(train, feed_dict={x: data[i:i+1,:], t: labels_oh[i:i+1,:], keep_prob:0.5})   \n",
    "    if i%100 == 0:\n",
    "        loss_val, acc_val = [],[]\n",
    "        loss_val, acc_val = sess.run([loss, accuracy], feed_dict={x:test_data, t:test_labels_oh, keep_prob:1.0})        \n",
    "        print ('Step: %d, Loss: %f, Accuracy: %f'% (i, loss_val, acc_val))\n"
   ]
  },
  {
   "cell_type": "code",
   "execution_count": 6,
   "metadata": {},
   "outputs": [
    {
     "data": {
      "text/plain": [
       "(1, 3072)"
      ]
     },
     "execution_count": 6,
     "metadata": {},
     "output_type": "execute_result"
    }
   ],
   "source": [
    "data[1:1+1,:].shape"
   ]
  },
  {
   "cell_type": "code",
   "execution_count": null,
   "metadata": {
    "collapsed": true
   },
   "outputs": [],
   "source": []
  }
 ],
 "metadata": {
  "kernelspec": {
   "display_name": "Python 3",
   "language": "python",
   "name": "python3"
  },
  "language_info": {
   "codemirror_mode": {
    "name": "ipython",
    "version": 3
   },
   "file_extension": ".py",
   "mimetype": "text/x-python",
   "name": "python",
   "nbconvert_exporter": "python",
   "pygments_lexer": "ipython3",
   "version": "3.6.0"
  }
 },
 "nbformat": 4,
 "nbformat_minor": 2
}
